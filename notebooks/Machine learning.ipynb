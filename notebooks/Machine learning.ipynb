{
 "cells": [
  {
   "cell_type": "code",
   "execution_count": 1,
   "id": "b5104820",
   "metadata": {},
   "outputs": [],
   "source": [
    "import pandas as pd\n",
    "import numpy as np"
   ]
  },
  {
   "cell_type": "markdown",
   "id": "cd3ee5f6",
   "metadata": {},
   "source": [
    "# Load the data"
   ]
  },
  {
   "cell_type": "code",
   "execution_count": 2,
   "id": "b9e54adb",
   "metadata": {},
   "outputs": [],
   "source": [
    "df_preproc = pd.read_csv('../absenteeism/data/Preprocessed_absenteeism_data.csv')"
   ]
  },
  {
   "cell_type": "code",
   "execution_count": 3,
   "id": "f0e5a99d",
   "metadata": {},
   "outputs": [
    {
     "data": {
      "text/html": [
       "<div>\n",
       "<style scoped>\n",
       "    .dataframe tbody tr th:only-of-type {\n",
       "        vertical-align: middle;\n",
       "    }\n",
       "\n",
       "    .dataframe tbody tr th {\n",
       "        vertical-align: top;\n",
       "    }\n",
       "\n",
       "    .dataframe thead th {\n",
       "        text-align: right;\n",
       "    }\n",
       "</style>\n",
       "<table border=\"1\" class=\"dataframe\">\n",
       "  <thead>\n",
       "    <tr style=\"text-align: right;\">\n",
       "      <th></th>\n",
       "      <th>reason 1</th>\n",
       "      <th>reason 2</th>\n",
       "      <th>reason 3</th>\n",
       "      <th>reason 4</th>\n",
       "      <th>Transportation Expense</th>\n",
       "      <th>Distance to Work</th>\n",
       "      <th>Age</th>\n",
       "      <th>Daily Work Load Average</th>\n",
       "      <th>Body Mass Index</th>\n",
       "      <th>Education</th>\n",
       "      <th>Children</th>\n",
       "      <th>Pets</th>\n",
       "      <th>Absenteeism Time in Hours</th>\n",
       "      <th>Month</th>\n",
       "      <th>Day of the week</th>\n",
       "    </tr>\n",
       "  </thead>\n",
       "  <tbody>\n",
       "    <tr>\n",
       "      <th>0</th>\n",
       "      <td>0</td>\n",
       "      <td>0</td>\n",
       "      <td>0</td>\n",
       "      <td>1</td>\n",
       "      <td>289</td>\n",
       "      <td>36</td>\n",
       "      <td>33</td>\n",
       "      <td>239.554</td>\n",
       "      <td>30</td>\n",
       "      <td>0</td>\n",
       "      <td>2</td>\n",
       "      <td>1</td>\n",
       "      <td>4</td>\n",
       "      <td>7</td>\n",
       "      <td>1</td>\n",
       "    </tr>\n",
       "    <tr>\n",
       "      <th>1</th>\n",
       "      <td>0</td>\n",
       "      <td>0</td>\n",
       "      <td>0</td>\n",
       "      <td>0</td>\n",
       "      <td>118</td>\n",
       "      <td>13</td>\n",
       "      <td>50</td>\n",
       "      <td>239.554</td>\n",
       "      <td>31</td>\n",
       "      <td>0</td>\n",
       "      <td>1</td>\n",
       "      <td>0</td>\n",
       "      <td>0</td>\n",
       "      <td>7</td>\n",
       "      <td>1</td>\n",
       "    </tr>\n",
       "    <tr>\n",
       "      <th>2</th>\n",
       "      <td>0</td>\n",
       "      <td>0</td>\n",
       "      <td>0</td>\n",
       "      <td>1</td>\n",
       "      <td>179</td>\n",
       "      <td>51</td>\n",
       "      <td>38</td>\n",
       "      <td>239.554</td>\n",
       "      <td>31</td>\n",
       "      <td>0</td>\n",
       "      <td>0</td>\n",
       "      <td>0</td>\n",
       "      <td>2</td>\n",
       "      <td>7</td>\n",
       "      <td>2</td>\n",
       "    </tr>\n",
       "    <tr>\n",
       "      <th>3</th>\n",
       "      <td>1</td>\n",
       "      <td>0</td>\n",
       "      <td>0</td>\n",
       "      <td>0</td>\n",
       "      <td>279</td>\n",
       "      <td>5</td>\n",
       "      <td>39</td>\n",
       "      <td>239.554</td>\n",
       "      <td>24</td>\n",
       "      <td>0</td>\n",
       "      <td>2</td>\n",
       "      <td>0</td>\n",
       "      <td>4</td>\n",
       "      <td>7</td>\n",
       "      <td>3</td>\n",
       "    </tr>\n",
       "    <tr>\n",
       "      <th>4</th>\n",
       "      <td>0</td>\n",
       "      <td>0</td>\n",
       "      <td>0</td>\n",
       "      <td>1</td>\n",
       "      <td>289</td>\n",
       "      <td>36</td>\n",
       "      <td>33</td>\n",
       "      <td>239.554</td>\n",
       "      <td>30</td>\n",
       "      <td>0</td>\n",
       "      <td>2</td>\n",
       "      <td>1</td>\n",
       "      <td>2</td>\n",
       "      <td>7</td>\n",
       "      <td>3</td>\n",
       "    </tr>\n",
       "  </tbody>\n",
       "</table>\n",
       "</div>"
      ],
      "text/plain": [
       "   reason 1  reason 2  reason 3  reason 4  Transportation Expense  \\\n",
       "0         0         0         0         1                     289   \n",
       "1         0         0         0         0                     118   \n",
       "2         0         0         0         1                     179   \n",
       "3         1         0         0         0                     279   \n",
       "4         0         0         0         1                     289   \n",
       "\n",
       "   Distance to Work  Age  Daily Work Load Average  Body Mass Index  Education  \\\n",
       "0                36   33                  239.554               30          0   \n",
       "1                13   50                  239.554               31          0   \n",
       "2                51   38                  239.554               31          0   \n",
       "3                 5   39                  239.554               24          0   \n",
       "4                36   33                  239.554               30          0   \n",
       "\n",
       "   Children  Pets  Absenteeism Time in Hours  Month  Day of the week  \n",
       "0         2     1                          4      7                1  \n",
       "1         1     0                          0      7                1  \n",
       "2         0     0                          2      7                2  \n",
       "3         2     0                          4      7                3  \n",
       "4         2     1                          2      7                3  "
      ]
     },
     "execution_count": 3,
     "metadata": {},
     "output_type": "execute_result"
    }
   ],
   "source": [
    "df_preproc.head()"
   ]
  },
  {
   "cell_type": "markdown",
   "id": "edc494a9",
   "metadata": {},
   "source": [
    "# Target definition"
   ]
  },
  {
   "cell_type": "code",
   "execution_count": 4,
   "id": "c696ab43",
   "metadata": {},
   "outputs": [
    {
     "data": {
      "text/plain": [
       "3.0"
      ]
     },
     "execution_count": 4,
     "metadata": {},
     "output_type": "execute_result"
    }
   ],
   "source": [
    "df_preproc['Absenteeism Time in Hours'].median()"
   ]
  },
  {
   "cell_type": "code",
   "execution_count": 5,
   "id": "de8f5032",
   "metadata": {},
   "outputs": [],
   "source": [
    "df_preproc['Absenteeism'] = np.where(df_preproc['Absenteeism Time in Hours'] > df_preproc['Absenteeism Time in Hours'].median(), 1, 0)"
   ]
  },
  {
   "cell_type": "code",
   "execution_count": 6,
   "id": "83bf8128",
   "metadata": {
    "scrolled": true
   },
   "outputs": [
    {
     "data": {
      "text/plain": [
       "0.45571428571428574"
      ]
     },
     "execution_count": 6,
     "metadata": {},
     "output_type": "execute_result"
    }
   ],
   "source": [
    "df_preproc['Absenteeism'].sum()/df_preproc.shape[0]"
   ]
  },
  {
   "cell_type": "code",
   "execution_count": 7,
   "id": "0022b583",
   "metadata": {},
   "outputs": [],
   "source": [
    "df_preproc.drop(columns ='Absenteeism Time in Hours', inplace = True )"
   ]
  },
  {
   "cell_type": "code",
   "execution_count": 8,
   "id": "21254eab",
   "metadata": {},
   "outputs": [
    {
     "data": {
      "text/html": [
       "<div>\n",
       "<style scoped>\n",
       "    .dataframe tbody tr th:only-of-type {\n",
       "        vertical-align: middle;\n",
       "    }\n",
       "\n",
       "    .dataframe tbody tr th {\n",
       "        vertical-align: top;\n",
       "    }\n",
       "\n",
       "    .dataframe thead th {\n",
       "        text-align: right;\n",
       "    }\n",
       "</style>\n",
       "<table border=\"1\" class=\"dataframe\">\n",
       "  <thead>\n",
       "    <tr style=\"text-align: right;\">\n",
       "      <th></th>\n",
       "      <th>reason 1</th>\n",
       "      <th>reason 2</th>\n",
       "      <th>reason 3</th>\n",
       "      <th>reason 4</th>\n",
       "      <th>Transportation Expense</th>\n",
       "      <th>Distance to Work</th>\n",
       "      <th>Age</th>\n",
       "      <th>Daily Work Load Average</th>\n",
       "      <th>Body Mass Index</th>\n",
       "      <th>Education</th>\n",
       "      <th>Children</th>\n",
       "      <th>Pets</th>\n",
       "      <th>Month</th>\n",
       "      <th>Day of the week</th>\n",
       "      <th>Absenteeism</th>\n",
       "    </tr>\n",
       "  </thead>\n",
       "  <tbody>\n",
       "    <tr>\n",
       "      <th>0</th>\n",
       "      <td>0</td>\n",
       "      <td>0</td>\n",
       "      <td>0</td>\n",
       "      <td>1</td>\n",
       "      <td>289</td>\n",
       "      <td>36</td>\n",
       "      <td>33</td>\n",
       "      <td>239.554</td>\n",
       "      <td>30</td>\n",
       "      <td>0</td>\n",
       "      <td>2</td>\n",
       "      <td>1</td>\n",
       "      <td>7</td>\n",
       "      <td>1</td>\n",
       "      <td>1</td>\n",
       "    </tr>\n",
       "    <tr>\n",
       "      <th>1</th>\n",
       "      <td>0</td>\n",
       "      <td>0</td>\n",
       "      <td>0</td>\n",
       "      <td>0</td>\n",
       "      <td>118</td>\n",
       "      <td>13</td>\n",
       "      <td>50</td>\n",
       "      <td>239.554</td>\n",
       "      <td>31</td>\n",
       "      <td>0</td>\n",
       "      <td>1</td>\n",
       "      <td>0</td>\n",
       "      <td>7</td>\n",
       "      <td>1</td>\n",
       "      <td>0</td>\n",
       "    </tr>\n",
       "    <tr>\n",
       "      <th>2</th>\n",
       "      <td>0</td>\n",
       "      <td>0</td>\n",
       "      <td>0</td>\n",
       "      <td>1</td>\n",
       "      <td>179</td>\n",
       "      <td>51</td>\n",
       "      <td>38</td>\n",
       "      <td>239.554</td>\n",
       "      <td>31</td>\n",
       "      <td>0</td>\n",
       "      <td>0</td>\n",
       "      <td>0</td>\n",
       "      <td>7</td>\n",
       "      <td>2</td>\n",
       "      <td>0</td>\n",
       "    </tr>\n",
       "    <tr>\n",
       "      <th>3</th>\n",
       "      <td>1</td>\n",
       "      <td>0</td>\n",
       "      <td>0</td>\n",
       "      <td>0</td>\n",
       "      <td>279</td>\n",
       "      <td>5</td>\n",
       "      <td>39</td>\n",
       "      <td>239.554</td>\n",
       "      <td>24</td>\n",
       "      <td>0</td>\n",
       "      <td>2</td>\n",
       "      <td>0</td>\n",
       "      <td>7</td>\n",
       "      <td>3</td>\n",
       "      <td>1</td>\n",
       "    </tr>\n",
       "    <tr>\n",
       "      <th>4</th>\n",
       "      <td>0</td>\n",
       "      <td>0</td>\n",
       "      <td>0</td>\n",
       "      <td>1</td>\n",
       "      <td>289</td>\n",
       "      <td>36</td>\n",
       "      <td>33</td>\n",
       "      <td>239.554</td>\n",
       "      <td>30</td>\n",
       "      <td>0</td>\n",
       "      <td>2</td>\n",
       "      <td>1</td>\n",
       "      <td>7</td>\n",
       "      <td>3</td>\n",
       "      <td>0</td>\n",
       "    </tr>\n",
       "    <tr>\n",
       "      <th>...</th>\n",
       "      <td>...</td>\n",
       "      <td>...</td>\n",
       "      <td>...</td>\n",
       "      <td>...</td>\n",
       "      <td>...</td>\n",
       "      <td>...</td>\n",
       "      <td>...</td>\n",
       "      <td>...</td>\n",
       "      <td>...</td>\n",
       "      <td>...</td>\n",
       "      <td>...</td>\n",
       "      <td>...</td>\n",
       "      <td>...</td>\n",
       "      <td>...</td>\n",
       "      <td>...</td>\n",
       "    </tr>\n",
       "    <tr>\n",
       "      <th>695</th>\n",
       "      <td>1</td>\n",
       "      <td>0</td>\n",
       "      <td>0</td>\n",
       "      <td>0</td>\n",
       "      <td>179</td>\n",
       "      <td>22</td>\n",
       "      <td>40</td>\n",
       "      <td>237.656</td>\n",
       "      <td>22</td>\n",
       "      <td>1</td>\n",
       "      <td>2</td>\n",
       "      <td>0</td>\n",
       "      <td>5</td>\n",
       "      <td>2</td>\n",
       "      <td>1</td>\n",
       "    </tr>\n",
       "    <tr>\n",
       "      <th>696</th>\n",
       "      <td>1</td>\n",
       "      <td>0</td>\n",
       "      <td>0</td>\n",
       "      <td>0</td>\n",
       "      <td>225</td>\n",
       "      <td>26</td>\n",
       "      <td>28</td>\n",
       "      <td>237.656</td>\n",
       "      <td>24</td>\n",
       "      <td>0</td>\n",
       "      <td>1</td>\n",
       "      <td>2</td>\n",
       "      <td>5</td>\n",
       "      <td>2</td>\n",
       "      <td>0</td>\n",
       "    </tr>\n",
       "    <tr>\n",
       "      <th>697</th>\n",
       "      <td>1</td>\n",
       "      <td>0</td>\n",
       "      <td>0</td>\n",
       "      <td>0</td>\n",
       "      <td>330</td>\n",
       "      <td>16</td>\n",
       "      <td>28</td>\n",
       "      <td>237.656</td>\n",
       "      <td>25</td>\n",
       "      <td>1</td>\n",
       "      <td>0</td>\n",
       "      <td>0</td>\n",
       "      <td>5</td>\n",
       "      <td>3</td>\n",
       "      <td>1</td>\n",
       "    </tr>\n",
       "    <tr>\n",
       "      <th>698</th>\n",
       "      <td>0</td>\n",
       "      <td>0</td>\n",
       "      <td>0</td>\n",
       "      <td>1</td>\n",
       "      <td>235</td>\n",
       "      <td>16</td>\n",
       "      <td>32</td>\n",
       "      <td>237.656</td>\n",
       "      <td>25</td>\n",
       "      <td>1</td>\n",
       "      <td>0</td>\n",
       "      <td>0</td>\n",
       "      <td>5</td>\n",
       "      <td>3</td>\n",
       "      <td>0</td>\n",
       "    </tr>\n",
       "    <tr>\n",
       "      <th>699</th>\n",
       "      <td>0</td>\n",
       "      <td>0</td>\n",
       "      <td>0</td>\n",
       "      <td>1</td>\n",
       "      <td>291</td>\n",
       "      <td>31</td>\n",
       "      <td>40</td>\n",
       "      <td>237.656</td>\n",
       "      <td>25</td>\n",
       "      <td>0</td>\n",
       "      <td>1</td>\n",
       "      <td>1</td>\n",
       "      <td>5</td>\n",
       "      <td>3</td>\n",
       "      <td>0</td>\n",
       "    </tr>\n",
       "  </tbody>\n",
       "</table>\n",
       "<p>700 rows × 15 columns</p>\n",
       "</div>"
      ],
      "text/plain": [
       "     reason 1  reason 2  reason 3  reason 4  Transportation Expense  \\\n",
       "0           0         0         0         1                     289   \n",
       "1           0         0         0         0                     118   \n",
       "2           0         0         0         1                     179   \n",
       "3           1         0         0         0                     279   \n",
       "4           0         0         0         1                     289   \n",
       "..        ...       ...       ...       ...                     ...   \n",
       "695         1         0         0         0                     179   \n",
       "696         1         0         0         0                     225   \n",
       "697         1         0         0         0                     330   \n",
       "698         0         0         0         1                     235   \n",
       "699         0         0         0         1                     291   \n",
       "\n",
       "     Distance to Work  Age  Daily Work Load Average  Body Mass Index  \\\n",
       "0                  36   33                  239.554               30   \n",
       "1                  13   50                  239.554               31   \n",
       "2                  51   38                  239.554               31   \n",
       "3                   5   39                  239.554               24   \n",
       "4                  36   33                  239.554               30   \n",
       "..                ...  ...                      ...              ...   \n",
       "695                22   40                  237.656               22   \n",
       "696                26   28                  237.656               24   \n",
       "697                16   28                  237.656               25   \n",
       "698                16   32                  237.656               25   \n",
       "699                31   40                  237.656               25   \n",
       "\n",
       "     Education  Children  Pets  Month  Day of the week  Absenteeism  \n",
       "0            0         2     1      7                1            1  \n",
       "1            0         1     0      7                1            0  \n",
       "2            0         0     0      7                2            0  \n",
       "3            0         2     0      7                3            1  \n",
       "4            0         2     1      7                3            0  \n",
       "..         ...       ...   ...    ...              ...          ...  \n",
       "695          1         2     0      5                2            1  \n",
       "696          0         1     2      5                2            0  \n",
       "697          1         0     0      5                3            1  \n",
       "698          1         0     0      5                3            0  \n",
       "699          0         1     1      5                3            0  \n",
       "\n",
       "[700 rows x 15 columns]"
      ]
     },
     "execution_count": 8,
     "metadata": {},
     "output_type": "execute_result"
    }
   ],
   "source": [
    "df_preproc"
   ]
  },
  {
   "cell_type": "markdown",
   "id": "f32c748e",
   "metadata": {},
   "source": [
    "# Feature and target selection"
   ]
  },
  {
   "cell_type": "code",
   "execution_count": 9,
   "id": "f9f63d51",
   "metadata": {},
   "outputs": [
    {
     "data": {
      "text/plain": [
       "(700, 15)"
      ]
     },
     "execution_count": 9,
     "metadata": {},
     "output_type": "execute_result"
    }
   ],
   "source": [
    "df_preproc.shape"
   ]
  },
  {
   "cell_type": "code",
   "execution_count": 10,
   "id": "929a931a",
   "metadata": {},
   "outputs": [],
   "source": [
    "X = df_preproc.drop(columns='Absenteeism')"
   ]
  },
  {
   "cell_type": "code",
   "execution_count": 11,
   "id": "8bbef0e7",
   "metadata": {},
   "outputs": [],
   "source": [
    "# Reverse elimination\n",
    "X = X.drop(['Day of the week','Daily Work Load Average','Distance to Work'],axis=1)"
   ]
  },
  {
   "cell_type": "code",
   "execution_count": 12,
   "id": "6e43aaba",
   "metadata": {},
   "outputs": [
    {
     "data": {
      "text/plain": [
       "Index(['reason 1', 'reason 2', 'reason 3', 'reason 4',\n",
       "       'Transportation Expense', 'Age', 'Body Mass Index', 'Education',\n",
       "       'Children', 'Pets', 'Month'],\n",
       "      dtype='object')"
      ]
     },
     "execution_count": 12,
     "metadata": {},
     "output_type": "execute_result"
    }
   ],
   "source": [
    "X.columns"
   ]
  },
  {
   "cell_type": "code",
   "execution_count": 13,
   "id": "68d727be",
   "metadata": {},
   "outputs": [
    {
     "data": {
      "text/html": [
       "<div>\n",
       "<style scoped>\n",
       "    .dataframe tbody tr th:only-of-type {\n",
       "        vertical-align: middle;\n",
       "    }\n",
       "\n",
       "    .dataframe tbody tr th {\n",
       "        vertical-align: top;\n",
       "    }\n",
       "\n",
       "    .dataframe thead th {\n",
       "        text-align: right;\n",
       "    }\n",
       "</style>\n",
       "<table border=\"1\" class=\"dataframe\">\n",
       "  <thead>\n",
       "    <tr style=\"text-align: right;\">\n",
       "      <th></th>\n",
       "      <th>reason 1</th>\n",
       "      <th>reason 2</th>\n",
       "      <th>reason 3</th>\n",
       "      <th>reason 4</th>\n",
       "      <th>Transportation Expense</th>\n",
       "      <th>Age</th>\n",
       "      <th>Body Mass Index</th>\n",
       "      <th>Education</th>\n",
       "      <th>Children</th>\n",
       "      <th>Pets</th>\n",
       "      <th>Month</th>\n",
       "    </tr>\n",
       "  </thead>\n",
       "  <tbody>\n",
       "    <tr>\n",
       "      <th>0</th>\n",
       "      <td>0</td>\n",
       "      <td>0</td>\n",
       "      <td>0</td>\n",
       "      <td>1</td>\n",
       "      <td>289</td>\n",
       "      <td>33</td>\n",
       "      <td>30</td>\n",
       "      <td>0</td>\n",
       "      <td>2</td>\n",
       "      <td>1</td>\n",
       "      <td>7</td>\n",
       "    </tr>\n",
       "    <tr>\n",
       "      <th>1</th>\n",
       "      <td>0</td>\n",
       "      <td>0</td>\n",
       "      <td>0</td>\n",
       "      <td>0</td>\n",
       "      <td>118</td>\n",
       "      <td>50</td>\n",
       "      <td>31</td>\n",
       "      <td>0</td>\n",
       "      <td>1</td>\n",
       "      <td>0</td>\n",
       "      <td>7</td>\n",
       "    </tr>\n",
       "    <tr>\n",
       "      <th>2</th>\n",
       "      <td>0</td>\n",
       "      <td>0</td>\n",
       "      <td>0</td>\n",
       "      <td>1</td>\n",
       "      <td>179</td>\n",
       "      <td>38</td>\n",
       "      <td>31</td>\n",
       "      <td>0</td>\n",
       "      <td>0</td>\n",
       "      <td>0</td>\n",
       "      <td>7</td>\n",
       "    </tr>\n",
       "    <tr>\n",
       "      <th>3</th>\n",
       "      <td>1</td>\n",
       "      <td>0</td>\n",
       "      <td>0</td>\n",
       "      <td>0</td>\n",
       "      <td>279</td>\n",
       "      <td>39</td>\n",
       "      <td>24</td>\n",
       "      <td>0</td>\n",
       "      <td>2</td>\n",
       "      <td>0</td>\n",
       "      <td>7</td>\n",
       "    </tr>\n",
       "    <tr>\n",
       "      <th>4</th>\n",
       "      <td>0</td>\n",
       "      <td>0</td>\n",
       "      <td>0</td>\n",
       "      <td>1</td>\n",
       "      <td>289</td>\n",
       "      <td>33</td>\n",
       "      <td>30</td>\n",
       "      <td>0</td>\n",
       "      <td>2</td>\n",
       "      <td>1</td>\n",
       "      <td>7</td>\n",
       "    </tr>\n",
       "  </tbody>\n",
       "</table>\n",
       "</div>"
      ],
      "text/plain": [
       "   reason 1  reason 2  reason 3  reason 4  Transportation Expense  Age  \\\n",
       "0         0         0         0         1                     289   33   \n",
       "1         0         0         0         0                     118   50   \n",
       "2         0         0         0         1                     179   38   \n",
       "3         1         0         0         0                     279   39   \n",
       "4         0         0         0         1                     289   33   \n",
       "\n",
       "   Body Mass Index  Education  Children  Pets  Month  \n",
       "0               30          0         2     1      7  \n",
       "1               31          0         1     0      7  \n",
       "2               31          0         0     0      7  \n",
       "3               24          0         2     0      7  \n",
       "4               30          0         2     1      7  "
      ]
     },
     "execution_count": 13,
     "metadata": {},
     "output_type": "execute_result"
    }
   ],
   "source": [
    "X.head()"
   ]
  },
  {
   "cell_type": "code",
   "execution_count": 14,
   "id": "77dd7b37",
   "metadata": {},
   "outputs": [],
   "source": [
    "y = df_preproc['Absenteeism']"
   ]
  },
  {
   "cell_type": "markdown",
   "id": "44336265",
   "metadata": {},
   "source": [
    "# Standardize numerical features"
   ]
  },
  {
   "cell_type": "code",
   "execution_count": 15,
   "id": "b9be9025",
   "metadata": {
    "scrolled": true
   },
   "outputs": [
    {
     "data": {
      "text/plain": [
       "Index(['reason 1', 'reason 2', 'reason 3', 'reason 4',\n",
       "       'Transportation Expense', 'Age', 'Body Mass Index', 'Education',\n",
       "       'Children', 'Pets', 'Month'],\n",
       "      dtype='object')"
      ]
     },
     "execution_count": 15,
     "metadata": {},
     "output_type": "execute_result"
    }
   ],
   "source": [
    "X.columns"
   ]
  },
  {
   "cell_type": "code",
   "execution_count": 16,
   "id": "a914d23b",
   "metadata": {},
   "outputs": [],
   "source": [
    "X_unscaled = X[['Transportation Expense', 'Age',\n",
    "       'Body Mass Index', 'Children',\n",
    "       'Pets', 'Month']]"
   ]
  },
  {
   "cell_type": "code",
   "execution_count": 17,
   "id": "c3804a77",
   "metadata": {},
   "outputs": [
    {
     "data": {
      "text/plain": [
       "StandardScaler()"
      ]
     },
     "execution_count": 17,
     "metadata": {},
     "output_type": "execute_result"
    }
   ],
   "source": [
    "from sklearn.preprocessing import StandardScaler\n",
    "\n",
    "scaler = StandardScaler()\n",
    "scaler.fit(X_unscaled)"
   ]
  },
  {
   "cell_type": "code",
   "execution_count": 18,
   "id": "4816a667",
   "metadata": {},
   "outputs": [],
   "source": [
    "import pickle\n",
    "with open('../absenteeism/scaler','wb') as file:\n",
    "    pickle.dump(scaler,file)"
   ]
  },
  {
   "cell_type": "code",
   "execution_count": 19,
   "id": "3a79fa10",
   "metadata": {},
   "outputs": [],
   "source": [
    "with open('../absenteeism/scaler', 'rb') as scaler_file:\n",
    "\n",
    "    abs_scaler = pickle.load(scaler_file)"
   ]
  },
  {
   "cell_type": "code",
   "execution_count": 20,
   "id": "7f2dabd7",
   "metadata": {
    "scrolled": true
   },
   "outputs": [],
   "source": [
    "X_scaled = abs_scaler.transform(X_unscaled)"
   ]
  },
  {
   "cell_type": "code",
   "execution_count": 21,
   "id": "c832c705",
   "metadata": {},
   "outputs": [],
   "source": [
    "X = X.drop(columns = ['Transportation Expense', 'Age',\n",
    "       'Body Mass Index', 'Children',\n",
    "       'Pets', 'Month'])"
   ]
  },
  {
   "cell_type": "code",
   "execution_count": 22,
   "id": "df7f8cc2",
   "metadata": {},
   "outputs": [
    {
     "data": {
      "text/plain": [
       "Index(['reason 1', 'reason 2', 'reason 3', 'reason 4', 'Education',\n",
       "       'Transportation Expense', 'Age', 'Body Mass Index', 'Children', 'Pets',\n",
       "       'Month'],\n",
       "      dtype='object')"
      ]
     },
     "execution_count": 22,
     "metadata": {},
     "output_type": "execute_result"
    }
   ],
   "source": [
    "X[['Transportation Expense', 'Age',\n",
    "       'Body Mass Index', 'Children',\n",
    "       'Pets', 'Month']] = X_scaled\n",
    "X.columns"
   ]
  },
  {
   "cell_type": "markdown",
   "id": "c10ab609",
   "metadata": {
    "heading_collapsed": true
   },
   "source": [
    "# Train test split"
   ]
  },
  {
   "cell_type": "code",
   "execution_count": 23,
   "id": "752f8d30",
   "metadata": {
    "hidden": true
   },
   "outputs": [],
   "source": [
    "from sklearn.model_selection import train_test_split"
   ]
  },
  {
   "cell_type": "code",
   "execution_count": 24,
   "id": "e6e0d333",
   "metadata": {
    "hidden": true
   },
   "outputs": [],
   "source": [
    "X_train, X_test, y_train, y_test = train_test_split(X,y, train_size = 0.8)"
   ]
  },
  {
   "cell_type": "markdown",
   "id": "e43384f6",
   "metadata": {
    "heading_collapsed": true
   },
   "source": [
    "# Logistic regression"
   ]
  },
  {
   "cell_type": "code",
   "execution_count": 25,
   "id": "b30d1372",
   "metadata": {
    "hidden": true
   },
   "outputs": [],
   "source": [
    "from sklearn.linear_model import LogisticRegression\n",
    "from sklearn import metrics"
   ]
  },
  {
   "cell_type": "markdown",
   "id": "a842e562",
   "metadata": {
    "hidden": true
   },
   "source": [
    "## Training the model"
   ]
  },
  {
   "cell_type": "code",
   "execution_count": 26,
   "id": "8a105506",
   "metadata": {
    "hidden": true
   },
   "outputs": [],
   "source": [
    "logreg = LogisticRegression()"
   ]
  },
  {
   "cell_type": "code",
   "execution_count": 27,
   "id": "cc22353f",
   "metadata": {
    "hidden": true
   },
   "outputs": [
    {
     "data": {
      "text/plain": [
       "LogisticRegression()"
      ]
     },
     "execution_count": 27,
     "metadata": {},
     "output_type": "execute_result"
    }
   ],
   "source": [
    "logreg.fit(X_train,y_train)"
   ]
  },
  {
   "cell_type": "code",
   "execution_count": 28,
   "id": "77b7f8c4",
   "metadata": {
    "hidden": true,
    "scrolled": true
   },
   "outputs": [
    {
     "data": {
      "text/plain": [
       "0.7767857142857143"
      ]
     },
     "execution_count": 28,
     "metadata": {},
     "output_type": "execute_result"
    }
   ],
   "source": [
    "logreg.score(X_train, y_train)"
   ]
  },
  {
   "cell_type": "markdown",
   "id": "e8775423",
   "metadata": {
    "hidden": true
   },
   "source": [
    "## Analyze coefficients"
   ]
  },
  {
   "cell_type": "code",
   "execution_count": 29,
   "id": "edd2de97",
   "metadata": {
    "hidden": true
   },
   "outputs": [
    {
     "data": {
      "text/plain": [
       "array([-1.59430706])"
      ]
     },
     "execution_count": 29,
     "metadata": {},
     "output_type": "execute_result"
    }
   ],
   "source": [
    "logreg.intercept_"
   ]
  },
  {
   "cell_type": "code",
   "execution_count": 30,
   "id": "ab3d455e",
   "metadata": {
    "hidden": true,
    "scrolled": true
   },
   "outputs": [
    {
     "data": {
      "text/plain": [
       "array([[ 2.66327249,  1.28303056,  3.0025583 ,  0.65192086, -0.1940472 ,\n",
       "         0.56924785, -0.02678926,  0.16885538,  0.33574754, -0.3949451 ,\n",
       "         0.14805927]])"
      ]
     },
     "execution_count": 30,
     "metadata": {},
     "output_type": "execute_result"
    }
   ],
   "source": [
    "logreg.coef_"
   ]
  },
  {
   "cell_type": "code",
   "execution_count": 31,
   "id": "bbe8287e",
   "metadata": {
    "hidden": true
   },
   "outputs": [],
   "source": [
    "feature_names = X.columns.values"
   ]
  },
  {
   "cell_type": "code",
   "execution_count": 32,
   "id": "1ee9262e",
   "metadata": {
    "hidden": true
   },
   "outputs": [],
   "source": [
    "summary_table = pd.DataFrame (columns = ['Feature name'], data = feature_names)\n",
    "summary_table['Coefficient'] = np.transpose(logreg.coef_)"
   ]
  },
  {
   "cell_type": "code",
   "execution_count": 33,
   "id": "96c0bb9d",
   "metadata": {
    "hidden": true
   },
   "outputs": [
    {
     "data": {
      "text/html": [
       "<div>\n",
       "<style scoped>\n",
       "    .dataframe tbody tr th:only-of-type {\n",
       "        vertical-align: middle;\n",
       "    }\n",
       "\n",
       "    .dataframe tbody tr th {\n",
       "        vertical-align: top;\n",
       "    }\n",
       "\n",
       "    .dataframe thead th {\n",
       "        text-align: right;\n",
       "    }\n",
       "</style>\n",
       "<table border=\"1\" class=\"dataframe\">\n",
       "  <thead>\n",
       "    <tr style=\"text-align: right;\">\n",
       "      <th></th>\n",
       "      <th>Feature name</th>\n",
       "      <th>Coefficient</th>\n",
       "    </tr>\n",
       "  </thead>\n",
       "  <tbody>\n",
       "    <tr>\n",
       "      <th>0</th>\n",
       "      <td>reason 1</td>\n",
       "      <td>2.663272</td>\n",
       "    </tr>\n",
       "    <tr>\n",
       "      <th>1</th>\n",
       "      <td>reason 2</td>\n",
       "      <td>1.283031</td>\n",
       "    </tr>\n",
       "    <tr>\n",
       "      <th>2</th>\n",
       "      <td>reason 3</td>\n",
       "      <td>3.002558</td>\n",
       "    </tr>\n",
       "    <tr>\n",
       "      <th>3</th>\n",
       "      <td>reason 4</td>\n",
       "      <td>0.651921</td>\n",
       "    </tr>\n",
       "    <tr>\n",
       "      <th>4</th>\n",
       "      <td>Education</td>\n",
       "      <td>-0.194047</td>\n",
       "    </tr>\n",
       "    <tr>\n",
       "      <th>5</th>\n",
       "      <td>Transportation Expense</td>\n",
       "      <td>0.569248</td>\n",
       "    </tr>\n",
       "    <tr>\n",
       "      <th>6</th>\n",
       "      <td>Age</td>\n",
       "      <td>-0.026789</td>\n",
       "    </tr>\n",
       "    <tr>\n",
       "      <th>7</th>\n",
       "      <td>Body Mass Index</td>\n",
       "      <td>0.168855</td>\n",
       "    </tr>\n",
       "    <tr>\n",
       "      <th>8</th>\n",
       "      <td>Children</td>\n",
       "      <td>0.335748</td>\n",
       "    </tr>\n",
       "    <tr>\n",
       "      <th>9</th>\n",
       "      <td>Pets</td>\n",
       "      <td>-0.394945</td>\n",
       "    </tr>\n",
       "    <tr>\n",
       "      <th>10</th>\n",
       "      <td>Month</td>\n",
       "      <td>0.148059</td>\n",
       "    </tr>\n",
       "  </tbody>\n",
       "</table>\n",
       "</div>"
      ],
      "text/plain": [
       "              Feature name  Coefficient\n",
       "0                 reason 1     2.663272\n",
       "1                 reason 2     1.283031\n",
       "2                 reason 3     3.002558\n",
       "3                 reason 4     0.651921\n",
       "4                Education    -0.194047\n",
       "5   Transportation Expense     0.569248\n",
       "6                      Age    -0.026789\n",
       "7          Body Mass Index     0.168855\n",
       "8                 Children     0.335748\n",
       "9                     Pets    -0.394945\n",
       "10                   Month     0.148059"
      ]
     },
     "execution_count": 33,
     "metadata": {},
     "output_type": "execute_result"
    }
   ],
   "source": [
    "summary_table"
   ]
  },
  {
   "cell_type": "code",
   "execution_count": 34,
   "id": "c61a4274",
   "metadata": {
    "hidden": true
   },
   "outputs": [],
   "source": [
    "summary_table.index = summary_table.index + 1\n",
    "summary_table.loc[0] = ['Intercept', logreg.intercept_[0]]"
   ]
  },
  {
   "cell_type": "code",
   "execution_count": 35,
   "id": "5bb70f8e",
   "metadata": {
    "hidden": true
   },
   "outputs": [
    {
     "data": {
      "text/html": [
       "<div>\n",
       "<style scoped>\n",
       "    .dataframe tbody tr th:only-of-type {\n",
       "        vertical-align: middle;\n",
       "    }\n",
       "\n",
       "    .dataframe tbody tr th {\n",
       "        vertical-align: top;\n",
       "    }\n",
       "\n",
       "    .dataframe thead th {\n",
       "        text-align: right;\n",
       "    }\n",
       "</style>\n",
       "<table border=\"1\" class=\"dataframe\">\n",
       "  <thead>\n",
       "    <tr style=\"text-align: right;\">\n",
       "      <th></th>\n",
       "      <th>Feature name</th>\n",
       "      <th>Coefficient</th>\n",
       "    </tr>\n",
       "  </thead>\n",
       "  <tbody>\n",
       "    <tr>\n",
       "      <th>0</th>\n",
       "      <td>Intercept</td>\n",
       "      <td>-1.594307</td>\n",
       "    </tr>\n",
       "    <tr>\n",
       "      <th>1</th>\n",
       "      <td>reason 1</td>\n",
       "      <td>2.663272</td>\n",
       "    </tr>\n",
       "    <tr>\n",
       "      <th>2</th>\n",
       "      <td>reason 2</td>\n",
       "      <td>1.283031</td>\n",
       "    </tr>\n",
       "    <tr>\n",
       "      <th>3</th>\n",
       "      <td>reason 3</td>\n",
       "      <td>3.002558</td>\n",
       "    </tr>\n",
       "    <tr>\n",
       "      <th>4</th>\n",
       "      <td>reason 4</td>\n",
       "      <td>0.651921</td>\n",
       "    </tr>\n",
       "    <tr>\n",
       "      <th>5</th>\n",
       "      <td>Education</td>\n",
       "      <td>-0.194047</td>\n",
       "    </tr>\n",
       "    <tr>\n",
       "      <th>6</th>\n",
       "      <td>Transportation Expense</td>\n",
       "      <td>0.569248</td>\n",
       "    </tr>\n",
       "    <tr>\n",
       "      <th>7</th>\n",
       "      <td>Age</td>\n",
       "      <td>-0.026789</td>\n",
       "    </tr>\n",
       "    <tr>\n",
       "      <th>8</th>\n",
       "      <td>Body Mass Index</td>\n",
       "      <td>0.168855</td>\n",
       "    </tr>\n",
       "    <tr>\n",
       "      <th>9</th>\n",
       "      <td>Children</td>\n",
       "      <td>0.335748</td>\n",
       "    </tr>\n",
       "    <tr>\n",
       "      <th>10</th>\n",
       "      <td>Pets</td>\n",
       "      <td>-0.394945</td>\n",
       "    </tr>\n",
       "    <tr>\n",
       "      <th>11</th>\n",
       "      <td>Month</td>\n",
       "      <td>0.148059</td>\n",
       "    </tr>\n",
       "  </tbody>\n",
       "</table>\n",
       "</div>"
      ],
      "text/plain": [
       "              Feature name  Coefficient\n",
       "0                Intercept    -1.594307\n",
       "1                 reason 1     2.663272\n",
       "2                 reason 2     1.283031\n",
       "3                 reason 3     3.002558\n",
       "4                 reason 4     0.651921\n",
       "5                Education    -0.194047\n",
       "6   Transportation Expense     0.569248\n",
       "7                      Age    -0.026789\n",
       "8          Body Mass Index     0.168855\n",
       "9                 Children     0.335748\n",
       "10                    Pets    -0.394945\n",
       "11                   Month     0.148059"
      ]
     },
     "execution_count": 35,
     "metadata": {},
     "output_type": "execute_result"
    }
   ],
   "source": [
    "summary_table.sort_index(inplace = True)\n",
    "summary_table"
   ]
  },
  {
   "cell_type": "markdown",
   "id": "25eea42e",
   "metadata": {
    "hidden": true
   },
   "source": [
    "## Evaluate predictive ability"
   ]
  },
  {
   "cell_type": "code",
   "execution_count": 36,
   "id": "61624f19",
   "metadata": {
    "hidden": true
   },
   "outputs": [
    {
     "data": {
      "text/plain": [
       "0.8357142857142857"
      ]
     },
     "execution_count": 36,
     "metadata": {},
     "output_type": "execute_result"
    }
   ],
   "source": [
    "logreg.score(X_test,y_test)"
   ]
  },
  {
   "cell_type": "code",
   "execution_count": 37,
   "id": "5e0178e5",
   "metadata": {
    "hidden": true
   },
   "outputs": [
    {
     "data": {
      "text/plain": [
       "array([0.20265059, 0.09670133, 0.54281343, 0.23041724, 0.83292589,\n",
       "       0.12297591, 0.11502066, 0.83656988, 0.2627681 , 0.19590586,\n",
       "       0.19964227, 0.45716629, 0.91724519, 0.49156118, 0.76713246,\n",
       "       0.91557403, 0.63679328, 0.22300683, 0.45994212, 0.7653316 ,\n",
       "       0.69382629, 0.83581842, 0.86969713, 0.2950572 , 0.79525139,\n",
       "       0.2627681 , 0.23134713, 0.60466555, 0.83093813, 0.45553697,\n",
       "       0.56643579, 0.95502608, 0.56445788, 0.18647546, 0.13708944,\n",
       "       0.82388497, 0.90155177, 0.41264407, 0.30695058, 0.43627331,\n",
       "       0.84780258, 0.40243776, 0.44669626, 0.39634938, 0.16406124,\n",
       "       0.31745953, 0.70117594, 0.5011333 , 0.82831914, 0.10974857,\n",
       "       0.19590586, 0.75949581, 0.11939413, 0.20265059, 0.20294393,\n",
       "       0.20294393, 0.19590586, 0.29609791, 0.19590586, 0.64548917,\n",
       "       0.57455007, 0.90675202, 0.16988983, 0.19508227, 0.10974857,\n",
       "       0.49156118, 0.23041724, 0.20265059, 0.12760824, 0.72705286,\n",
       "       0.43627331, 0.87991657, 0.31502861, 0.22946663, 0.32564437,\n",
       "       0.27103886, 0.74513094, 0.3492158 , 0.33176992, 0.46767429,\n",
       "       0.7605635 , 0.13625059, 0.16432867, 0.91878473, 0.49769161,\n",
       "       0.86212211, 0.59126218, 0.69136351, 0.83656988, 0.20265059,\n",
       "       0.69382629, 0.25466155, 0.64428995, 0.83424739, 0.7945989 ,\n",
       "       0.16559913, 0.51269385, 0.39634938, 0.19590586, 0.91557403,\n",
       "       0.50825895, 0.56643579, 0.35208965, 0.24030461, 0.60740409,\n",
       "       0.91557403, 0.38228453, 0.76203189, 0.67311811, 0.67394594,\n",
       "       0.48100144, 0.77658588, 0.3425077 , 0.2467214 , 0.76065031,\n",
       "       0.10974857, 0.84015915, 0.2627681 , 0.15279308, 0.24506233,\n",
       "       0.17398825, 0.21792027, 0.14740098, 0.50212847, 0.5950748 ,\n",
       "       0.6273718 , 0.15834581, 0.91724519, 0.19590586, 0.27103886,\n",
       "       0.79025188, 0.32442778, 0.14216723, 0.16406124, 0.45716629,\n",
       "       0.84248503, 0.73372155, 0.20265059, 0.40243776, 0.20265059])"
      ]
     },
     "execution_count": 37,
     "metadata": {},
     "output_type": "execute_result"
    }
   ],
   "source": [
    "# probability of absenteeism\n",
    "logreg.predict_proba(X_test)[:,1]"
   ]
  },
  {
   "cell_type": "markdown",
   "id": "e4bee7b3",
   "metadata": {},
   "source": [
    "# Save the model"
   ]
  },
  {
   "cell_type": "code",
   "execution_count": 38,
   "id": "f76a3b17",
   "metadata": {},
   "outputs": [],
   "source": [
    "import pickle"
   ]
  },
  {
   "cell_type": "code",
   "execution_count": 39,
   "id": "cda38a0c",
   "metadata": {},
   "outputs": [],
   "source": [
    "with open('../absenteeism/model','wb') as file:\n",
    "    pickle.dump(logreg,file)\n"
   ]
  },
  {
   "cell_type": "code",
   "execution_count": 40,
   "id": "efc554aa",
   "metadata": {},
   "outputs": [],
   "source": [
    "with open('../absenteeism/model','rb') as model_file, open('../absenteeism/scaler', 'rb') as scaler_file:\n",
    "    model = pickle.load(model_file)"
   ]
  }
 ],
 "metadata": {
  "kernelspec": {
   "display_name": "Python 3 (ipykernel)",
   "language": "python",
   "name": "python3"
  },
  "language_info": {
   "codemirror_mode": {
    "name": "ipython",
    "version": 3
   },
   "file_extension": ".py",
   "mimetype": "text/x-python",
   "name": "python",
   "nbconvert_exporter": "python",
   "pygments_lexer": "ipython3",
   "version": "3.8.12"
  },
  "toc": {
   "base_numbering": 1,
   "nav_menu": {},
   "number_sections": true,
   "sideBar": true,
   "skip_h1_title": false,
   "title_cell": "Table of Contents",
   "title_sidebar": "Contents",
   "toc_cell": false,
   "toc_position": {},
   "toc_section_display": true,
   "toc_window_display": false
  }
 },
 "nbformat": 4,
 "nbformat_minor": 5
}
