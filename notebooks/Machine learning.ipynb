{
 "cells": [
  {
   "cell_type": "code",
   "execution_count": 96,
   "id": "b5104820",
   "metadata": {},
   "outputs": [],
   "source": [
    "import pandas as pd\n",
    "import numpy as np"
   ]
  },
  {
   "cell_type": "markdown",
   "id": "cd3ee5f6",
   "metadata": {
    "heading_collapsed": true
   },
   "source": [
    "# Load the data"
   ]
  },
  {
   "cell_type": "code",
   "execution_count": 97,
   "id": "b9e54adb",
   "metadata": {
    "hidden": true
   },
   "outputs": [],
   "source": [
    "df_preproc = pd.read_csv('../absenteeism/data/Preprocessed_absenteeism_data.csv')"
   ]
  },
  {
   "cell_type": "code",
   "execution_count": 98,
   "id": "f0e5a99d",
   "metadata": {
    "hidden": true
   },
   "outputs": [
    {
     "data": {
      "text/html": [
       "<div>\n",
       "<style scoped>\n",
       "    .dataframe tbody tr th:only-of-type {\n",
       "        vertical-align: middle;\n",
       "    }\n",
       "\n",
       "    .dataframe tbody tr th {\n",
       "        vertical-align: top;\n",
       "    }\n",
       "\n",
       "    .dataframe thead th {\n",
       "        text-align: right;\n",
       "    }\n",
       "</style>\n",
       "<table border=\"1\" class=\"dataframe\">\n",
       "  <thead>\n",
       "    <tr style=\"text-align: right;\">\n",
       "      <th></th>\n",
       "      <th>reason 1</th>\n",
       "      <th>reason 2</th>\n",
       "      <th>reason 3</th>\n",
       "      <th>reason 4</th>\n",
       "      <th>Transportation Expense</th>\n",
       "      <th>Distance to Work</th>\n",
       "      <th>Age</th>\n",
       "      <th>Daily Work Load Average</th>\n",
       "      <th>Body Mass Index</th>\n",
       "      <th>Education</th>\n",
       "      <th>Children</th>\n",
       "      <th>Pets</th>\n",
       "      <th>Absenteeism Time in Hours</th>\n",
       "      <th>Month</th>\n",
       "      <th>Day of the week</th>\n",
       "    </tr>\n",
       "  </thead>\n",
       "  <tbody>\n",
       "    <tr>\n",
       "      <th>0</th>\n",
       "      <td>0</td>\n",
       "      <td>0</td>\n",
       "      <td>0</td>\n",
       "      <td>1</td>\n",
       "      <td>289</td>\n",
       "      <td>36</td>\n",
       "      <td>33</td>\n",
       "      <td>239.554</td>\n",
       "      <td>30</td>\n",
       "      <td>0</td>\n",
       "      <td>2</td>\n",
       "      <td>1</td>\n",
       "      <td>4</td>\n",
       "      <td>7</td>\n",
       "      <td>1</td>\n",
       "    </tr>\n",
       "    <tr>\n",
       "      <th>1</th>\n",
       "      <td>0</td>\n",
       "      <td>0</td>\n",
       "      <td>0</td>\n",
       "      <td>0</td>\n",
       "      <td>118</td>\n",
       "      <td>13</td>\n",
       "      <td>50</td>\n",
       "      <td>239.554</td>\n",
       "      <td>31</td>\n",
       "      <td>0</td>\n",
       "      <td>1</td>\n",
       "      <td>0</td>\n",
       "      <td>0</td>\n",
       "      <td>7</td>\n",
       "      <td>1</td>\n",
       "    </tr>\n",
       "    <tr>\n",
       "      <th>2</th>\n",
       "      <td>0</td>\n",
       "      <td>0</td>\n",
       "      <td>0</td>\n",
       "      <td>1</td>\n",
       "      <td>179</td>\n",
       "      <td>51</td>\n",
       "      <td>38</td>\n",
       "      <td>239.554</td>\n",
       "      <td>31</td>\n",
       "      <td>0</td>\n",
       "      <td>0</td>\n",
       "      <td>0</td>\n",
       "      <td>2</td>\n",
       "      <td>7</td>\n",
       "      <td>2</td>\n",
       "    </tr>\n",
       "    <tr>\n",
       "      <th>3</th>\n",
       "      <td>1</td>\n",
       "      <td>0</td>\n",
       "      <td>0</td>\n",
       "      <td>0</td>\n",
       "      <td>279</td>\n",
       "      <td>5</td>\n",
       "      <td>39</td>\n",
       "      <td>239.554</td>\n",
       "      <td>24</td>\n",
       "      <td>0</td>\n",
       "      <td>2</td>\n",
       "      <td>0</td>\n",
       "      <td>4</td>\n",
       "      <td>7</td>\n",
       "      <td>3</td>\n",
       "    </tr>\n",
       "    <tr>\n",
       "      <th>4</th>\n",
       "      <td>0</td>\n",
       "      <td>0</td>\n",
       "      <td>0</td>\n",
       "      <td>1</td>\n",
       "      <td>289</td>\n",
       "      <td>36</td>\n",
       "      <td>33</td>\n",
       "      <td>239.554</td>\n",
       "      <td>30</td>\n",
       "      <td>0</td>\n",
       "      <td>2</td>\n",
       "      <td>1</td>\n",
       "      <td>2</td>\n",
       "      <td>7</td>\n",
       "      <td>3</td>\n",
       "    </tr>\n",
       "  </tbody>\n",
       "</table>\n",
       "</div>"
      ],
      "text/plain": [
       "   reason 1  reason 2  reason 3  reason 4  Transportation Expense  \\\n",
       "0         0         0         0         1                     289   \n",
       "1         0         0         0         0                     118   \n",
       "2         0         0         0         1                     179   \n",
       "3         1         0         0         0                     279   \n",
       "4         0         0         0         1                     289   \n",
       "\n",
       "   Distance to Work  Age  Daily Work Load Average  Body Mass Index  Education  \\\n",
       "0                36   33                  239.554               30          0   \n",
       "1                13   50                  239.554               31          0   \n",
       "2                51   38                  239.554               31          0   \n",
       "3                 5   39                  239.554               24          0   \n",
       "4                36   33                  239.554               30          0   \n",
       "\n",
       "   Children  Pets  Absenteeism Time in Hours  Month  Day of the week  \n",
       "0         2     1                          4      7                1  \n",
       "1         1     0                          0      7                1  \n",
       "2         0     0                          2      7                2  \n",
       "3         2     0                          4      7                3  \n",
       "4         2     1                          2      7                3  "
      ]
     },
     "execution_count": 98,
     "metadata": {},
     "output_type": "execute_result"
    }
   ],
   "source": [
    "df_preproc.head()"
   ]
  },
  {
   "cell_type": "markdown",
   "id": "edc494a9",
   "metadata": {
    "heading_collapsed": true
   },
   "source": [
    "# Target definition"
   ]
  },
  {
   "cell_type": "code",
   "execution_count": 99,
   "id": "c696ab43",
   "metadata": {
    "hidden": true
   },
   "outputs": [
    {
     "data": {
      "text/plain": [
       "3.0"
      ]
     },
     "execution_count": 99,
     "metadata": {},
     "output_type": "execute_result"
    }
   ],
   "source": [
    "df_preproc['Absenteeism Time in Hours'].median()"
   ]
  },
  {
   "cell_type": "code",
   "execution_count": 100,
   "id": "de8f5032",
   "metadata": {
    "hidden": true
   },
   "outputs": [],
   "source": [
    "df_preproc['Absenteeism'] = np.where(df_preproc['Absenteeism Time in Hours'] > df_preproc['Absenteeism Time in Hours'].median(), 1, 0)"
   ]
  },
  {
   "cell_type": "code",
   "execution_count": 101,
   "id": "83bf8128",
   "metadata": {
    "hidden": true,
    "scrolled": true
   },
   "outputs": [
    {
     "data": {
      "text/plain": [
       "0.45571428571428574"
      ]
     },
     "execution_count": 101,
     "metadata": {},
     "output_type": "execute_result"
    }
   ],
   "source": [
    "df_preproc['Absenteeism'].sum()/df_preproc.shape[0]"
   ]
  },
  {
   "cell_type": "code",
   "execution_count": 102,
   "id": "0022b583",
   "metadata": {
    "hidden": true
   },
   "outputs": [],
   "source": [
    "df_preproc.drop(columns ='Absenteeism Time in Hours', inplace = True )"
   ]
  },
  {
   "cell_type": "markdown",
   "id": "f32c748e",
   "metadata": {
    "heading_collapsed": true
   },
   "source": [
    "# Feature and target selection"
   ]
  },
  {
   "cell_type": "code",
   "execution_count": 103,
   "id": "f9f63d51",
   "metadata": {
    "hidden": true
   },
   "outputs": [
    {
     "data": {
      "text/plain": [
       "(700, 15)"
      ]
     },
     "execution_count": 103,
     "metadata": {},
     "output_type": "execute_result"
    }
   ],
   "source": [
    "df_preproc.shape"
   ]
  },
  {
   "cell_type": "code",
   "execution_count": 104,
   "id": "929a931a",
   "metadata": {
    "hidden": true
   },
   "outputs": [],
   "source": [
    "X = df_preproc.drop(columns='Absenteeism')"
   ]
  },
  {
   "cell_type": "code",
   "execution_count": 107,
   "id": "8bbef0e7",
   "metadata": {
    "hidden": true
   },
   "outputs": [],
   "source": [
    "# Reverse elimination\n",
    "X = X.drop(['Day of the week','Daily Work Load Average','Distance to Work'],axis=1)"
   ]
  },
  {
   "cell_type": "code",
   "execution_count": 105,
   "id": "77dd7b37",
   "metadata": {
    "hidden": true
   },
   "outputs": [],
   "source": [
    "y = df_preproc['Absenteeism']"
   ]
  },
  {
   "cell_type": "markdown",
   "id": "44336265",
   "metadata": {},
   "source": [
    "# Standardize numerical features"
   ]
  },
  {
   "cell_type": "code",
   "execution_count": 116,
   "id": "b9be9025",
   "metadata": {
    "scrolled": true
   },
   "outputs": [
    {
     "data": {
      "text/plain": [
       "Index(['reason 1', 'reason 2', 'reason 3', 'reason 4',\n",
       "       'Transportation Expense', 'Age', 'Body Mass Index', 'Education',\n",
       "       'Children', 'Pets', 'Month'],\n",
       "      dtype='object')"
      ]
     },
     "execution_count": 116,
     "metadata": {},
     "output_type": "execute_result"
    }
   ],
   "source": [
    "X.columns"
   ]
  },
  {
   "cell_type": "code",
   "execution_count": 117,
   "id": "a914d23b",
   "metadata": {},
   "outputs": [],
   "source": [
    "X_unscaled = X[['Transportation Expense', 'Age',\n",
    "       'Body Mass Index', 'Children',\n",
    "       'Pets', 'Month']]"
   ]
  },
  {
   "cell_type": "code",
   "execution_count": 118,
   "id": "c3804a77",
   "metadata": {},
   "outputs": [
    {
     "data": {
      "text/plain": [
       "StandardScaler()"
      ]
     },
     "execution_count": 118,
     "metadata": {},
     "output_type": "execute_result"
    }
   ],
   "source": [
    "from sklearn.preprocessing import StandardScaler\n",
    "\n",
    "scaler = StandardScaler()\n",
    "scaler.fit(X_unscaled)"
   ]
  },
  {
   "cell_type": "code",
   "execution_count": 119,
   "id": "4816a667",
   "metadata": {},
   "outputs": [],
   "source": [
    "import pickle\n",
    "with open('../absenteeism/scaler','wb') as file:\n",
    "    pickle.dump(scaler,file)"
   ]
  },
  {
   "cell_type": "code",
   "execution_count": 120,
   "id": "3a79fa10",
   "metadata": {},
   "outputs": [],
   "source": [
    "with open('../absenteeism/scaler', 'rb') as scaler_file:\n",
    "\n",
    "    abs_scaler = pickle.load(scaler_file)"
   ]
  },
  {
   "cell_type": "code",
   "execution_count": 121,
   "id": "7f2dabd7",
   "metadata": {
    "scrolled": true
   },
   "outputs": [],
   "source": [
    "X_scaled = abs_scaler.transform(X_unscaled)"
   ]
  },
  {
   "cell_type": "code",
   "execution_count": 122,
   "id": "c832c705",
   "metadata": {},
   "outputs": [],
   "source": [
    "X = X.drop(columns = ['Transportation Expense', 'Age',\n",
    "       'Body Mass Index', 'Children',\n",
    "       'Pets', 'Month'])"
   ]
  },
  {
   "cell_type": "code",
   "execution_count": 126,
   "id": "df7f8cc2",
   "metadata": {},
   "outputs": [
    {
     "data": {
      "text/plain": [
       "Index(['reason 1', 'reason 2', 'reason 3', 'reason 4', 'Education',\n",
       "       'Transportation Expense', 'Age', 'Body Mass Index', 'Children', 'Pets',\n",
       "       'Month'],\n",
       "      dtype='object')"
      ]
     },
     "execution_count": 126,
     "metadata": {},
     "output_type": "execute_result"
    }
   ],
   "source": [
    "X[['Transportation Expense', 'Age',\n",
    "       'Body Mass Index', 'Children',\n",
    "       'Pets', 'Month']] = X_scaled\n",
    "X.columns"
   ]
  },
  {
   "cell_type": "markdown",
   "id": "c10ab609",
   "metadata": {},
   "source": [
    "# Train test split"
   ]
  },
  {
   "cell_type": "code",
   "execution_count": 24,
   "id": "752f8d30",
   "metadata": {},
   "outputs": [],
   "source": [
    "from sklearn.model_selection import train_test_split"
   ]
  },
  {
   "cell_type": "code",
   "execution_count": 25,
   "id": "e6e0d333",
   "metadata": {},
   "outputs": [],
   "source": [
    "X_train, X_test, y_train, y_test = train_test_split(X,y, train_size = 0.8)"
   ]
  },
  {
   "cell_type": "markdown",
   "id": "e43384f6",
   "metadata": {
    "heading_collapsed": true
   },
   "source": [
    "# Logistic regression"
   ]
  },
  {
   "cell_type": "code",
   "execution_count": 26,
   "id": "b30d1372",
   "metadata": {
    "hidden": true
   },
   "outputs": [],
   "source": [
    "from sklearn.linear_model import LogisticRegression\n",
    "from sklearn import metrics"
   ]
  },
  {
   "cell_type": "markdown",
   "id": "a842e562",
   "metadata": {
    "hidden": true
   },
   "source": [
    "## Training the model"
   ]
  },
  {
   "cell_type": "code",
   "execution_count": 27,
   "id": "8a105506",
   "metadata": {
    "hidden": true
   },
   "outputs": [],
   "source": [
    "logreg = LogisticRegression()"
   ]
  },
  {
   "cell_type": "code",
   "execution_count": 28,
   "id": "cc22353f",
   "metadata": {
    "hidden": true
   },
   "outputs": [
    {
     "data": {
      "text/plain": [
       "LogisticRegression()"
      ]
     },
     "execution_count": 28,
     "metadata": {},
     "output_type": "execute_result"
    }
   ],
   "source": [
    "logreg.fit(X_train,y_train)"
   ]
  },
  {
   "cell_type": "code",
   "execution_count": 29,
   "id": "77b7f8c4",
   "metadata": {
    "hidden": true,
    "scrolled": true
   },
   "outputs": [
    {
     "data": {
      "text/plain": [
       "0.7767857142857143"
      ]
     },
     "execution_count": 29,
     "metadata": {},
     "output_type": "execute_result"
    }
   ],
   "source": [
    "logreg.score(X_train, y_train)"
   ]
  },
  {
   "cell_type": "markdown",
   "id": "e8775423",
   "metadata": {
    "hidden": true
   },
   "source": [
    "## Analyze coefficients"
   ]
  },
  {
   "cell_type": "code",
   "execution_count": 30,
   "id": "edd2de97",
   "metadata": {
    "hidden": true
   },
   "outputs": [
    {
     "data": {
      "text/plain": [
       "array([-1.69783724])"
      ]
     },
     "execution_count": 30,
     "metadata": {},
     "output_type": "execute_result"
    }
   ],
   "source": [
    "logreg.intercept_"
   ]
  },
  {
   "cell_type": "code",
   "execution_count": 31,
   "id": "ab3d455e",
   "metadata": {
    "hidden": true,
    "scrolled": true
   },
   "outputs": [
    {
     "data": {
      "text/plain": [
       "array([[ 2.79698998,  1.05680472,  3.1877269 ,  0.73203298, -0.23252329,\n",
       "         0.49908463, -0.22036721,  0.13656264,  0.33571319, -0.36826842,\n",
       "         0.13061851]])"
      ]
     },
     "execution_count": 31,
     "metadata": {},
     "output_type": "execute_result"
    }
   ],
   "source": [
    "logreg.coef_"
   ]
  },
  {
   "cell_type": "code",
   "execution_count": 32,
   "id": "bbe8287e",
   "metadata": {
    "hidden": true
   },
   "outputs": [],
   "source": [
    "feature_names = X.columns.values"
   ]
  },
  {
   "cell_type": "code",
   "execution_count": 33,
   "id": "1ee9262e",
   "metadata": {
    "hidden": true
   },
   "outputs": [],
   "source": [
    "summary_table = pd.DataFrame (columns = ['Feature name'], data = feature_names)\n",
    "summary_table['Coefficient'] = np.transpose(logreg.coef_)"
   ]
  },
  {
   "cell_type": "code",
   "execution_count": 34,
   "id": "96c0bb9d",
   "metadata": {
    "hidden": true
   },
   "outputs": [
    {
     "data": {
      "text/html": [
       "<div>\n",
       "<style scoped>\n",
       "    .dataframe tbody tr th:only-of-type {\n",
       "        vertical-align: middle;\n",
       "    }\n",
       "\n",
       "    .dataframe tbody tr th {\n",
       "        vertical-align: top;\n",
       "    }\n",
       "\n",
       "    .dataframe thead th {\n",
       "        text-align: right;\n",
       "    }\n",
       "</style>\n",
       "<table border=\"1\" class=\"dataframe\">\n",
       "  <thead>\n",
       "    <tr style=\"text-align: right;\">\n",
       "      <th></th>\n",
       "      <th>Feature name</th>\n",
       "      <th>Coefficient</th>\n",
       "    </tr>\n",
       "  </thead>\n",
       "  <tbody>\n",
       "    <tr>\n",
       "      <th>0</th>\n",
       "      <td>reason 1</td>\n",
       "      <td>2.796990</td>\n",
       "    </tr>\n",
       "    <tr>\n",
       "      <th>1</th>\n",
       "      <td>reason 2</td>\n",
       "      <td>1.056805</td>\n",
       "    </tr>\n",
       "    <tr>\n",
       "      <th>2</th>\n",
       "      <td>reason 3</td>\n",
       "      <td>3.187727</td>\n",
       "    </tr>\n",
       "    <tr>\n",
       "      <th>3</th>\n",
       "      <td>reason 4</td>\n",
       "      <td>0.732033</td>\n",
       "    </tr>\n",
       "    <tr>\n",
       "      <th>4</th>\n",
       "      <td>Education</td>\n",
       "      <td>-0.232523</td>\n",
       "    </tr>\n",
       "    <tr>\n",
       "      <th>5</th>\n",
       "      <td>Transportation Expense</td>\n",
       "      <td>0.499085</td>\n",
       "    </tr>\n",
       "    <tr>\n",
       "      <th>6</th>\n",
       "      <td>Age</td>\n",
       "      <td>-0.220367</td>\n",
       "    </tr>\n",
       "    <tr>\n",
       "      <th>7</th>\n",
       "      <td>Body Mass Index</td>\n",
       "      <td>0.136563</td>\n",
       "    </tr>\n",
       "    <tr>\n",
       "      <th>8</th>\n",
       "      <td>Children</td>\n",
       "      <td>0.335713</td>\n",
       "    </tr>\n",
       "    <tr>\n",
       "      <th>9</th>\n",
       "      <td>Pets</td>\n",
       "      <td>-0.368268</td>\n",
       "    </tr>\n",
       "    <tr>\n",
       "      <th>10</th>\n",
       "      <td>Month</td>\n",
       "      <td>0.130619</td>\n",
       "    </tr>\n",
       "  </tbody>\n",
       "</table>\n",
       "</div>"
      ],
      "text/plain": [
       "              Feature name  Coefficient\n",
       "0                 reason 1     2.796990\n",
       "1                 reason 2     1.056805\n",
       "2                 reason 3     3.187727\n",
       "3                 reason 4     0.732033\n",
       "4                Education    -0.232523\n",
       "5   Transportation Expense     0.499085\n",
       "6                      Age    -0.220367\n",
       "7          Body Mass Index     0.136563\n",
       "8                 Children     0.335713\n",
       "9                     Pets    -0.368268\n",
       "10                   Month     0.130619"
      ]
     },
     "execution_count": 34,
     "metadata": {},
     "output_type": "execute_result"
    }
   ],
   "source": [
    "summary_table"
   ]
  },
  {
   "cell_type": "code",
   "execution_count": 35,
   "id": "c61a4274",
   "metadata": {
    "hidden": true
   },
   "outputs": [],
   "source": [
    "summary_table.index = summary_table.index + 1\n",
    "summary_table.loc[0] = ['Intercept', logreg.intercept_[0]]"
   ]
  },
  {
   "cell_type": "code",
   "execution_count": 36,
   "id": "5bb70f8e",
   "metadata": {
    "hidden": true
   },
   "outputs": [
    {
     "data": {
      "text/html": [
       "<div>\n",
       "<style scoped>\n",
       "    .dataframe tbody tr th:only-of-type {\n",
       "        vertical-align: middle;\n",
       "    }\n",
       "\n",
       "    .dataframe tbody tr th {\n",
       "        vertical-align: top;\n",
       "    }\n",
       "\n",
       "    .dataframe thead th {\n",
       "        text-align: right;\n",
       "    }\n",
       "</style>\n",
       "<table border=\"1\" class=\"dataframe\">\n",
       "  <thead>\n",
       "    <tr style=\"text-align: right;\">\n",
       "      <th></th>\n",
       "      <th>Feature name</th>\n",
       "      <th>Coefficient</th>\n",
       "    </tr>\n",
       "  </thead>\n",
       "  <tbody>\n",
       "    <tr>\n",
       "      <th>0</th>\n",
       "      <td>Intercept</td>\n",
       "      <td>-1.697837</td>\n",
       "    </tr>\n",
       "    <tr>\n",
       "      <th>1</th>\n",
       "      <td>reason 1</td>\n",
       "      <td>2.796990</td>\n",
       "    </tr>\n",
       "    <tr>\n",
       "      <th>2</th>\n",
       "      <td>reason 2</td>\n",
       "      <td>1.056805</td>\n",
       "    </tr>\n",
       "    <tr>\n",
       "      <th>3</th>\n",
       "      <td>reason 3</td>\n",
       "      <td>3.187727</td>\n",
       "    </tr>\n",
       "    <tr>\n",
       "      <th>4</th>\n",
       "      <td>reason 4</td>\n",
       "      <td>0.732033</td>\n",
       "    </tr>\n",
       "    <tr>\n",
       "      <th>5</th>\n",
       "      <td>Education</td>\n",
       "      <td>-0.232523</td>\n",
       "    </tr>\n",
       "    <tr>\n",
       "      <th>6</th>\n",
       "      <td>Transportation Expense</td>\n",
       "      <td>0.499085</td>\n",
       "    </tr>\n",
       "    <tr>\n",
       "      <th>7</th>\n",
       "      <td>Age</td>\n",
       "      <td>-0.220367</td>\n",
       "    </tr>\n",
       "    <tr>\n",
       "      <th>8</th>\n",
       "      <td>Body Mass Index</td>\n",
       "      <td>0.136563</td>\n",
       "    </tr>\n",
       "    <tr>\n",
       "      <th>9</th>\n",
       "      <td>Children</td>\n",
       "      <td>0.335713</td>\n",
       "    </tr>\n",
       "    <tr>\n",
       "      <th>10</th>\n",
       "      <td>Pets</td>\n",
       "      <td>-0.368268</td>\n",
       "    </tr>\n",
       "    <tr>\n",
       "      <th>11</th>\n",
       "      <td>Month</td>\n",
       "      <td>0.130619</td>\n",
       "    </tr>\n",
       "  </tbody>\n",
       "</table>\n",
       "</div>"
      ],
      "text/plain": [
       "              Feature name  Coefficient\n",
       "0                Intercept    -1.697837\n",
       "1                 reason 1     2.796990\n",
       "2                 reason 2     1.056805\n",
       "3                 reason 3     3.187727\n",
       "4                 reason 4     0.732033\n",
       "5                Education    -0.232523\n",
       "6   Transportation Expense     0.499085\n",
       "7                      Age    -0.220367\n",
       "8          Body Mass Index     0.136563\n",
       "9                 Children     0.335713\n",
       "10                    Pets    -0.368268\n",
       "11                   Month     0.130619"
      ]
     },
     "execution_count": 36,
     "metadata": {},
     "output_type": "execute_result"
    }
   ],
   "source": [
    "summary_table.sort_index(inplace = True)\n",
    "summary_table"
   ]
  },
  {
   "cell_type": "markdown",
   "id": "25eea42e",
   "metadata": {
    "hidden": true
   },
   "source": [
    "## Evaluate predictive ability"
   ]
  },
  {
   "cell_type": "code",
   "execution_count": 37,
   "id": "61624f19",
   "metadata": {
    "hidden": true
   },
   "outputs": [
    {
     "data": {
      "text/plain": [
       "0.8142857142857143"
      ]
     },
     "execution_count": 37,
     "metadata": {},
     "output_type": "execute_result"
    }
   ],
   "source": [
    "logreg.score(X_test,y_test)"
   ]
  },
  {
   "cell_type": "code",
   "execution_count": 38,
   "id": "5e0178e5",
   "metadata": {
    "hidden": true
   },
   "outputs": [
    {
     "data": {
      "text/plain": [
       "array([0.70931504, 0.36840851, 0.20969843, 0.27811817, 0.24445625,\n",
       "       0.83131672, 0.27811817, 0.20969843, 0.55075616, 0.13751536,\n",
       "       0.71734535, 0.11685597, 0.30539132, 0.27811817, 0.37712774,\n",
       "       0.25140961, 0.87406229, 0.35442245, 0.5780707 , 0.2633942 ,\n",
       "       0.35105371, 0.21796366, 0.79259952, 0.18222722, 0.15133057,\n",
       "       0.51649505, 0.39480189, 0.27233514, 0.24349266, 0.65434932,\n",
       "       0.18785062, 0.32143849, 0.83954126, 0.25140961, 0.59632862,\n",
       "       0.2159457 , 0.2633942 , 0.32617975, 0.27224937, 0.34688817,\n",
       "       0.18785062, 0.43928863, 0.21796366, 0.74681877, 0.18785062,\n",
       "       0.21796366, 0.11492724, 0.69446973, 0.74532816, 0.95529567,\n",
       "       0.36338446, 0.26376998, 0.77062376, 0.26492361, 0.71532859,\n",
       "       0.8100825 , 0.7646098 , 0.24081575, 0.84933624, 0.84003734,\n",
       "       0.06116952, 0.2159457 , 0.56451789, 0.19447098, 0.30539132,\n",
       "       0.21796366, 0.21796366, 0.18785062, 0.18785062, 0.90624999,\n",
       "       0.75577713, 0.85018817, 0.29719187, 0.84003734, 0.65304414,\n",
       "       0.88375935, 0.15133057, 0.63595756, 0.67660493, 0.22438726,\n",
       "       0.32925988, 0.20037962, 0.81820786, 0.67919859, 0.18785062,\n",
       "       0.24856923, 0.63189424, 0.92220529, 0.76915314, 0.15931724,\n",
       "       0.79259952, 0.18785062, 0.14199856, 0.15133057, 0.67660493,\n",
       "       0.76946674, 0.37694581, 0.29718611, 0.49492709, 0.36456091,\n",
       "       0.18785062, 0.92870907, 0.11685597, 0.63595756, 0.23763416,\n",
       "       0.19949534, 0.18785062, 0.64861627, 0.84174003, 0.52288058,\n",
       "       0.26500792, 0.12328751, 0.33754774, 0.67919859, 0.91817873,\n",
       "       0.14803476, 0.14673598, 0.64586671, 0.22232673, 0.58732013,\n",
       "       0.76396534, 0.14119031, 0.97531211, 0.18785062, 0.19949534,\n",
       "       0.14577307, 0.19360646, 0.25065563, 0.53849604, 0.15530824,\n",
       "       0.45519357, 0.19708706, 0.24565683, 0.2159457 , 0.32925988,\n",
       "       0.72466834, 0.8100825 , 0.15047852, 0.2633942 , 0.75777177])"
      ]
     },
     "execution_count": 38,
     "metadata": {},
     "output_type": "execute_result"
    }
   ],
   "source": [
    "# probability of absenteeism\n",
    "logreg.predict_proba(X_test)[:,1]"
   ]
  },
  {
   "cell_type": "markdown",
   "id": "e4bee7b3",
   "metadata": {},
   "source": [
    "# Save the model"
   ]
  },
  {
   "cell_type": "code",
   "execution_count": 39,
   "id": "f76a3b17",
   "metadata": {},
   "outputs": [],
   "source": [
    "import pickle"
   ]
  },
  {
   "cell_type": "code",
   "execution_count": 40,
   "id": "cda38a0c",
   "metadata": {},
   "outputs": [],
   "source": [
    "with open('../absenteeism/model','wb') as file:\n",
    "    pickle.dump(logreg,file)\n"
   ]
  },
  {
   "cell_type": "code",
   "execution_count": null,
   "id": "efc554aa",
   "metadata": {},
   "outputs": [],
   "source": [
    "with open('../absenteeism/model','rb') as model_file, open('../absenteeism/scaler', 'rb') as scaler_file:\n",
    "    model = pickle.load(model_file)"
   ]
  }
 ],
 "metadata": {
  "kernelspec": {
   "display_name": "Python 3 (ipykernel)",
   "language": "python",
   "name": "python3"
  },
  "language_info": {
   "codemirror_mode": {
    "name": "ipython",
    "version": 3
   },
   "file_extension": ".py",
   "mimetype": "text/x-python",
   "name": "python",
   "nbconvert_exporter": "python",
   "pygments_lexer": "ipython3",
   "version": "3.8.12"
  },
  "toc": {
   "base_numbering": 1,
   "nav_menu": {},
   "number_sections": true,
   "sideBar": true,
   "skip_h1_title": false,
   "title_cell": "Table of Contents",
   "title_sidebar": "Contents",
   "toc_cell": false,
   "toc_position": {},
   "toc_section_display": true,
   "toc_window_display": false
  }
 },
 "nbformat": 4,
 "nbformat_minor": 5
}
